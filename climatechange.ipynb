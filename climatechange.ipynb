{
 "cells": [
  {
   "cell_type": "markdown",
   "metadata": {},
   "source": [
    "IMPORT ALL LIBRARIES"
   ]
  },
  {
   "cell_type": "code",
   "execution_count": 51,
   "metadata": {},
   "outputs": [],
   "source": [
    "import numpy as np\n",
    "import pandas as pd\n",
    "import matplotlib.pyplot as plt\n",
    "import seaborn as sns\n",
    "import warnings\n",
    "warnings.filterwarnings(\"ignore\")"
   ]
  },
  {
   "cell_type": "markdown",
   "metadata": {},
   "source": [
    "DATA PREPROCESSING (EXPLORATION AND TRANSFORMATION)"
   ]
  },
  {
   "cell_type": "code",
   "execution_count": 3,
   "metadata": {},
   "outputs": [],
   "source": [
    "#import dataset\n",
    "climate = pd.read_csv(\"C:/Users/FOLU/Downloads/climate_change_impact_on_agriculture_2024.csv\")"
   ]
  },
  {
   "cell_type": "code",
   "execution_count": 4,
   "metadata": {},
   "outputs": [
    {
     "data": {
      "text/html": [
       "<div>\n",
       "<style scoped>\n",
       "    .dataframe tbody tr th:only-of-type {\n",
       "        vertical-align: middle;\n",
       "    }\n",
       "\n",
       "    .dataframe tbody tr th {\n",
       "        vertical-align: top;\n",
       "    }\n",
       "\n",
       "    .dataframe thead th {\n",
       "        text-align: right;\n",
       "    }\n",
       "</style>\n",
       "<table border=\"1\" class=\"dataframe\">\n",
       "  <thead>\n",
       "    <tr style=\"text-align: right;\">\n",
       "      <th></th>\n",
       "      <th>Year</th>\n",
       "      <th>Country</th>\n",
       "      <th>Region</th>\n",
       "      <th>Crop_Type</th>\n",
       "      <th>Average_Temperature_C</th>\n",
       "      <th>Total_Precipitation_mm</th>\n",
       "      <th>CO2_Emissions_MT</th>\n",
       "      <th>Crop_Yield_MT_per_HA</th>\n",
       "      <th>Extreme_Weather_Events</th>\n",
       "      <th>Irrigation_Access_%</th>\n",
       "      <th>Pesticide_Use_KG_per_HA</th>\n",
       "      <th>Fertilizer_Use_KG_per_HA</th>\n",
       "      <th>Soil_Health_Index</th>\n",
       "      <th>Adaptation_Strategies</th>\n",
       "      <th>Economic_Impact_Million_USD</th>\n",
       "    </tr>\n",
       "  </thead>\n",
       "  <tbody>\n",
       "    <tr>\n",
       "      <th>0</th>\n",
       "      <td>2001</td>\n",
       "      <td>India</td>\n",
       "      <td>West Bengal</td>\n",
       "      <td>Corn</td>\n",
       "      <td>1.55</td>\n",
       "      <td>447.06</td>\n",
       "      <td>15.22</td>\n",
       "      <td>1.737</td>\n",
       "      <td>8</td>\n",
       "      <td>14.54</td>\n",
       "      <td>10.08</td>\n",
       "      <td>14.78</td>\n",
       "      <td>83.25</td>\n",
       "      <td>Water Management</td>\n",
       "      <td>808.13</td>\n",
       "    </tr>\n",
       "    <tr>\n",
       "      <th>1</th>\n",
       "      <td>2024</td>\n",
       "      <td>China</td>\n",
       "      <td>North</td>\n",
       "      <td>Corn</td>\n",
       "      <td>3.23</td>\n",
       "      <td>2913.57</td>\n",
       "      <td>29.82</td>\n",
       "      <td>1.737</td>\n",
       "      <td>8</td>\n",
       "      <td>11.05</td>\n",
       "      <td>33.06</td>\n",
       "      <td>23.25</td>\n",
       "      <td>54.02</td>\n",
       "      <td>Crop Rotation</td>\n",
       "      <td>616.22</td>\n",
       "    </tr>\n",
       "    <tr>\n",
       "      <th>2</th>\n",
       "      <td>2001</td>\n",
       "      <td>France</td>\n",
       "      <td>Ile-de-France</td>\n",
       "      <td>Wheat</td>\n",
       "      <td>21.11</td>\n",
       "      <td>1301.74</td>\n",
       "      <td>25.75</td>\n",
       "      <td>1.719</td>\n",
       "      <td>5</td>\n",
       "      <td>84.42</td>\n",
       "      <td>27.41</td>\n",
       "      <td>65.53</td>\n",
       "      <td>67.78</td>\n",
       "      <td>Water Management</td>\n",
       "      <td>796.96</td>\n",
       "    </tr>\n",
       "    <tr>\n",
       "      <th>3</th>\n",
       "      <td>2001</td>\n",
       "      <td>Canada</td>\n",
       "      <td>Prairies</td>\n",
       "      <td>Coffee</td>\n",
       "      <td>27.85</td>\n",
       "      <td>1154.36</td>\n",
       "      <td>13.91</td>\n",
       "      <td>3.890</td>\n",
       "      <td>5</td>\n",
       "      <td>94.06</td>\n",
       "      <td>14.38</td>\n",
       "      <td>87.58</td>\n",
       "      <td>91.39</td>\n",
       "      <td>No Adaptation</td>\n",
       "      <td>790.32</td>\n",
       "    </tr>\n",
       "    <tr>\n",
       "      <th>4</th>\n",
       "      <td>1998</td>\n",
       "      <td>India</td>\n",
       "      <td>Tamil Nadu</td>\n",
       "      <td>Sugarcane</td>\n",
       "      <td>2.19</td>\n",
       "      <td>1627.48</td>\n",
       "      <td>11.81</td>\n",
       "      <td>1.080</td>\n",
       "      <td>9</td>\n",
       "      <td>95.75</td>\n",
       "      <td>44.35</td>\n",
       "      <td>88.08</td>\n",
       "      <td>49.61</td>\n",
       "      <td>Crop Rotation</td>\n",
       "      <td>401.72</td>\n",
       "    </tr>\n",
       "  </tbody>\n",
       "</table>\n",
       "</div>"
      ],
      "text/plain": [
       "   Year Country         Region  Crop_Type  Average_Temperature_C  \\\n",
       "0  2001   India    West Bengal       Corn                   1.55   \n",
       "1  2024   China          North       Corn                   3.23   \n",
       "2  2001  France  Ile-de-France      Wheat                  21.11   \n",
       "3  2001  Canada       Prairies     Coffee                  27.85   \n",
       "4  1998   India     Tamil Nadu  Sugarcane                   2.19   \n",
       "\n",
       "   Total_Precipitation_mm  CO2_Emissions_MT  Crop_Yield_MT_per_HA  \\\n",
       "0                  447.06             15.22                 1.737   \n",
       "1                 2913.57             29.82                 1.737   \n",
       "2                 1301.74             25.75                 1.719   \n",
       "3                 1154.36             13.91                 3.890   \n",
       "4                 1627.48             11.81                 1.080   \n",
       "\n",
       "   Extreme_Weather_Events  Irrigation_Access_%  Pesticide_Use_KG_per_HA  \\\n",
       "0                       8                14.54                    10.08   \n",
       "1                       8                11.05                    33.06   \n",
       "2                       5                84.42                    27.41   \n",
       "3                       5                94.06                    14.38   \n",
       "4                       9                95.75                    44.35   \n",
       "\n",
       "   Fertilizer_Use_KG_per_HA  Soil_Health_Index Adaptation_Strategies  \\\n",
       "0                     14.78              83.25      Water Management   \n",
       "1                     23.25              54.02         Crop Rotation   \n",
       "2                     65.53              67.78      Water Management   \n",
       "3                     87.58              91.39         No Adaptation   \n",
       "4                     88.08              49.61         Crop Rotation   \n",
       "\n",
       "   Economic_Impact_Million_USD  \n",
       "0                       808.13  \n",
       "1                       616.22  \n",
       "2                       796.96  \n",
       "3                       790.32  \n",
       "4                       401.72  "
      ]
     },
     "execution_count": 4,
     "metadata": {},
     "output_type": "execute_result"
    }
   ],
   "source": [
    "#print the first five data sets\n",
    "climate.head()"
   ]
  },
  {
   "cell_type": "code",
   "execution_count": 5,
   "metadata": {},
   "outputs": [
    {
     "data": {
      "text/plain": [
       "(10000, 15)"
      ]
     },
     "execution_count": 5,
     "metadata": {},
     "output_type": "execute_result"
    }
   ],
   "source": [
    "#show the shape of data\n",
    "climate.shape"
   ]
  },
  {
   "cell_type": "code",
   "execution_count": 6,
   "metadata": {},
   "outputs": [
    {
     "data": {
      "text/plain": [
       "Index(['Year', 'Country', 'Region', 'Crop_Type', 'Average_Temperature_C',\n",
       "       'Total_Precipitation_mm', 'CO2_Emissions_MT', 'Crop_Yield_MT_per_HA',\n",
       "       'Extreme_Weather_Events', 'Irrigation_Access_%',\n",
       "       'Pesticide_Use_KG_per_HA', 'Fertilizer_Use_KG_per_HA',\n",
       "       'Soil_Health_Index', 'Adaptation_Strategies',\n",
       "       'Economic_Impact_Million_USD'],\n",
       "      dtype='object')"
      ]
     },
     "execution_count": 6,
     "metadata": {},
     "output_type": "execute_result"
    }
   ],
   "source": [
    "#show the variable names\n",
    "climate.columns"
   ]
  },
  {
   "cell_type": "code",
   "execution_count": 7,
   "metadata": {},
   "outputs": [
    {
     "name": "stdout",
     "output_type": "stream",
     "text": [
      "<class 'pandas.core.frame.DataFrame'>\n",
      "RangeIndex: 10000 entries, 0 to 9999\n",
      "Data columns (total 15 columns):\n",
      " #   Column                       Non-Null Count  Dtype  \n",
      "---  ------                       --------------  -----  \n",
      " 0   Year                         10000 non-null  int64  \n",
      " 1   Country                      10000 non-null  object \n",
      " 2   Region                       10000 non-null  object \n",
      " 3   Crop_Type                    10000 non-null  object \n",
      " 4   Average_Temperature_C        10000 non-null  float64\n",
      " 5   Total_Precipitation_mm       10000 non-null  float64\n",
      " 6   CO2_Emissions_MT             10000 non-null  float64\n",
      " 7   Crop_Yield_MT_per_HA         10000 non-null  float64\n",
      " 8   Extreme_Weather_Events       10000 non-null  int64  \n",
      " 9   Irrigation_Access_%          10000 non-null  float64\n",
      " 10  Pesticide_Use_KG_per_HA      10000 non-null  float64\n",
      " 11  Fertilizer_Use_KG_per_HA     10000 non-null  float64\n",
      " 12  Soil_Health_Index            10000 non-null  float64\n",
      " 13  Adaptation_Strategies        10000 non-null  object \n",
      " 14  Economic_Impact_Million_USD  10000 non-null  float64\n",
      "dtypes: float64(9), int64(2), object(4)\n",
      "memory usage: 1.1+ MB\n"
     ]
    }
   ],
   "source": [
    "#show info of data\n",
    "climate.info()"
   ]
  },
  {
   "cell_type": "code",
   "execution_count": 8,
   "metadata": {},
   "outputs": [],
   "source": [
    "#drop the \"year\" column\n",
    "climate.drop(columns=[\"Year\"],inplace=True)"
   ]
  },
  {
   "cell_type": "code",
   "execution_count": 9,
   "metadata": {},
   "outputs": [],
   "source": [
    "#drop the \"region\" column\n",
    "climate.drop(columns=[\"Region\"],inplace=True)"
   ]
  },
  {
   "cell_type": "code",
   "execution_count": 10,
   "metadata": {},
   "outputs": [
    {
     "data": {
      "text/plain": [
       "array(['Water Management', 'Crop Rotation', 'No Adaptation',\n",
       "       'Organic Farming', 'Drought-resistant Crops'], dtype=object)"
      ]
     },
     "execution_count": 10,
     "metadata": {},
     "output_type": "execute_result"
    }
   ],
   "source": [
    "#get the unique values of adaptation strategies\n",
    "unique_adaptaion = climate[\"Adaptation_Strategies\"].unique()\n",
    "unique_adaptaion"
   ]
  },
  {
   "cell_type": "code",
   "execution_count": 11,
   "metadata": {},
   "outputs": [
    {
     "data": {
      "text/plain": [
       "array(['India', 'China', 'France', 'Canada', 'USA', 'Argentina',\n",
       "       'Australia', 'Nigeria', 'Russia', 'Brazil'], dtype=object)"
      ]
     },
     "execution_count": 11,
     "metadata": {},
     "output_type": "execute_result"
    }
   ],
   "source": [
    "#show the unique values of country\n",
    "unique_country = climate[\"Country\"].unique()\n",
    "unique_country"
   ]
  },
  {
   "cell_type": "code",
   "execution_count": 12,
   "metadata": {},
   "outputs": [
    {
     "data": {
      "text/plain": [
       "array(['Corn', 'Wheat', 'Coffee', 'Sugarcane', 'Fruits', 'Rice', 'Barley',\n",
       "       'Vegetables', 'Soybeans', 'Cotton'], dtype=object)"
      ]
     },
     "execution_count": 12,
     "metadata": {},
     "output_type": "execute_result"
    }
   ],
   "source": [
    "#show the unique values of crop type\n",
    "unique_crop = climate[\"Crop_Type\"].unique()\n",
    "unique_crop\n"
   ]
  },
  {
   "cell_type": "code",
   "execution_count": 13,
   "metadata": {},
   "outputs": [],
   "source": [
    "#convert categorical variable country into numeric\n",
    "convert_country = {'India':1, 'China':2, 'France':3, 'Canada':4, 'USA':5, 'Argentina':6,'Australia':7, 'Nigeria':8, 'Russia':9, 'Brazil':10 }\n",
    "convert_country\n",
    "climate[\"Country\"] = climate[\"Country\"].map(convert_country)"
   ]
  },
  {
   "cell_type": "code",
   "execution_count": 14,
   "metadata": {},
   "outputs": [
    {
     "data": {
      "text/plain": [
       "0        1\n",
       "1        1\n",
       "2        2\n",
       "3        3\n",
       "4        4\n",
       "        ..\n",
       "9995    10\n",
       "9996     9\n",
       "9997     3\n",
       "9998     9\n",
       "9999     1\n",
       "Name: Crop_Type, Length: 10000, dtype: int64"
      ]
     },
     "execution_count": 14,
     "metadata": {},
     "output_type": "execute_result"
    }
   ],
   "source": [
    "#convert categorical variable crop type into numeric\n",
    "convert_crop = {\"Corn\":1, \"Wheat\":2, \"Coffee\":3, \"Sugarcane\":4, \"Fruits\":5, \"Rice\":6, \"Barley\":7,\"Vegetables\":8, \"Soybeans\":9, \"Cotton\":10 }\n",
    "climate[\"Crop_Type\"]= climate[\"Crop_Type\"].map(convert_crop)\n",
    "climate[\"Crop_Type\"]"
   ]
  },
  {
   "cell_type": "code",
   "execution_count": 15,
   "metadata": {},
   "outputs": [
    {
     "data": {
      "text/plain": [
       "0       1\n",
       "1       2\n",
       "2       1\n",
       "3       3\n",
       "4       2\n",
       "       ..\n",
       "9995    3\n",
       "9996    3\n",
       "9997    1\n",
       "9998    2\n",
       "9999    1\n",
       "Name: Adaptation_Strategies, Length: 10000, dtype: int64"
      ]
     },
     "execution_count": 15,
     "metadata": {},
     "output_type": "execute_result"
    }
   ],
   "source": [
    "#convert categorical variable adaptation strategies into numeric\n",
    "convert_adaptation = {\"Water Management\":1, \"Crop Rotation\":2, \"No Adaptation\":3, \"Organic Farming\":4, \"Drought-resistant Crops\":5}\n",
    "climate[\"Adaptation_Strategies\"]= climate[\"Adaptation_Strategies\"].map(convert_adaptation)\n",
    "climate[\"Adaptation_Strategies\"]"
   ]
  },
  {
   "cell_type": "code",
   "execution_count": 16,
   "metadata": {},
   "outputs": [
    {
     "data": {
      "text/html": [
       "<div>\n",
       "<style scoped>\n",
       "    .dataframe tbody tr th:only-of-type {\n",
       "        vertical-align: middle;\n",
       "    }\n",
       "\n",
       "    .dataframe tbody tr th {\n",
       "        vertical-align: top;\n",
       "    }\n",
       "\n",
       "    .dataframe thead th {\n",
       "        text-align: right;\n",
       "    }\n",
       "</style>\n",
       "<table border=\"1\" class=\"dataframe\">\n",
       "  <thead>\n",
       "    <tr style=\"text-align: right;\">\n",
       "      <th></th>\n",
       "      <th>Country</th>\n",
       "      <th>Crop_Type</th>\n",
       "      <th>Average_Temperature_C</th>\n",
       "      <th>Total_Precipitation_mm</th>\n",
       "      <th>CO2_Emissions_MT</th>\n",
       "      <th>Crop_Yield_MT_per_HA</th>\n",
       "      <th>Extreme_Weather_Events</th>\n",
       "      <th>Irrigation_Access_%</th>\n",
       "      <th>Pesticide_Use_KG_per_HA</th>\n",
       "      <th>Fertilizer_Use_KG_per_HA</th>\n",
       "      <th>Soil_Health_Index</th>\n",
       "      <th>Adaptation_Strategies</th>\n",
       "      <th>Economic_Impact_Million_USD</th>\n",
       "    </tr>\n",
       "  </thead>\n",
       "  <tbody>\n",
       "    <tr>\n",
       "      <th>0</th>\n",
       "      <td>1</td>\n",
       "      <td>1</td>\n",
       "      <td>1.55</td>\n",
       "      <td>447.06</td>\n",
       "      <td>15.22</td>\n",
       "      <td>1.737</td>\n",
       "      <td>8</td>\n",
       "      <td>14.54</td>\n",
       "      <td>10.08</td>\n",
       "      <td>14.78</td>\n",
       "      <td>83.25</td>\n",
       "      <td>1</td>\n",
       "      <td>808.13</td>\n",
       "    </tr>\n",
       "    <tr>\n",
       "      <th>1</th>\n",
       "      <td>2</td>\n",
       "      <td>1</td>\n",
       "      <td>3.23</td>\n",
       "      <td>2913.57</td>\n",
       "      <td>29.82</td>\n",
       "      <td>1.737</td>\n",
       "      <td>8</td>\n",
       "      <td>11.05</td>\n",
       "      <td>33.06</td>\n",
       "      <td>23.25</td>\n",
       "      <td>54.02</td>\n",
       "      <td>2</td>\n",
       "      <td>616.22</td>\n",
       "    </tr>\n",
       "    <tr>\n",
       "      <th>2</th>\n",
       "      <td>3</td>\n",
       "      <td>2</td>\n",
       "      <td>21.11</td>\n",
       "      <td>1301.74</td>\n",
       "      <td>25.75</td>\n",
       "      <td>1.719</td>\n",
       "      <td>5</td>\n",
       "      <td>84.42</td>\n",
       "      <td>27.41</td>\n",
       "      <td>65.53</td>\n",
       "      <td>67.78</td>\n",
       "      <td>1</td>\n",
       "      <td>796.96</td>\n",
       "    </tr>\n",
       "    <tr>\n",
       "      <th>3</th>\n",
       "      <td>4</td>\n",
       "      <td>3</td>\n",
       "      <td>27.85</td>\n",
       "      <td>1154.36</td>\n",
       "      <td>13.91</td>\n",
       "      <td>3.890</td>\n",
       "      <td>5</td>\n",
       "      <td>94.06</td>\n",
       "      <td>14.38</td>\n",
       "      <td>87.58</td>\n",
       "      <td>91.39</td>\n",
       "      <td>3</td>\n",
       "      <td>790.32</td>\n",
       "    </tr>\n",
       "    <tr>\n",
       "      <th>4</th>\n",
       "      <td>1</td>\n",
       "      <td>4</td>\n",
       "      <td>2.19</td>\n",
       "      <td>1627.48</td>\n",
       "      <td>11.81</td>\n",
       "      <td>1.080</td>\n",
       "      <td>9</td>\n",
       "      <td>95.75</td>\n",
       "      <td>44.35</td>\n",
       "      <td>88.08</td>\n",
       "      <td>49.61</td>\n",
       "      <td>2</td>\n",
       "      <td>401.72</td>\n",
       "    </tr>\n",
       "  </tbody>\n",
       "</table>\n",
       "</div>"
      ],
      "text/plain": [
       "   Country  Crop_Type  Average_Temperature_C  Total_Precipitation_mm  \\\n",
       "0        1          1                   1.55                  447.06   \n",
       "1        2          1                   3.23                 2913.57   \n",
       "2        3          2                  21.11                 1301.74   \n",
       "3        4          3                  27.85                 1154.36   \n",
       "4        1          4                   2.19                 1627.48   \n",
       "\n",
       "   CO2_Emissions_MT  Crop_Yield_MT_per_HA  Extreme_Weather_Events  \\\n",
       "0             15.22                 1.737                       8   \n",
       "1             29.82                 1.737                       8   \n",
       "2             25.75                 1.719                       5   \n",
       "3             13.91                 3.890                       5   \n",
       "4             11.81                 1.080                       9   \n",
       "\n",
       "   Irrigation_Access_%  Pesticide_Use_KG_per_HA  Fertilizer_Use_KG_per_HA  \\\n",
       "0                14.54                    10.08                     14.78   \n",
       "1                11.05                    33.06                     23.25   \n",
       "2                84.42                    27.41                     65.53   \n",
       "3                94.06                    14.38                     87.58   \n",
       "4                95.75                    44.35                     88.08   \n",
       "\n",
       "   Soil_Health_Index  Adaptation_Strategies  Economic_Impact_Million_USD  \n",
       "0              83.25                      1                       808.13  \n",
       "1              54.02                      2                       616.22  \n",
       "2              67.78                      1                       796.96  \n",
       "3              91.39                      3                       790.32  \n",
       "4              49.61                      2                       401.72  "
      ]
     },
     "execution_count": 16,
     "metadata": {},
     "output_type": "execute_result"
    }
   ],
   "source": [
    "climate.head()"
   ]
  },
  {
   "cell_type": "code",
   "execution_count": 17,
   "metadata": {},
   "outputs": [
    {
     "data": {
      "text/html": [
       "<div>\n",
       "<style scoped>\n",
       "    .dataframe tbody tr th:only-of-type {\n",
       "        vertical-align: middle;\n",
       "    }\n",
       "\n",
       "    .dataframe tbody tr th {\n",
       "        vertical-align: top;\n",
       "    }\n",
       "\n",
       "    .dataframe thead th {\n",
       "        text-align: right;\n",
       "    }\n",
       "</style>\n",
       "<table border=\"1\" class=\"dataframe\">\n",
       "  <thead>\n",
       "    <tr style=\"text-align: right;\">\n",
       "      <th></th>\n",
       "      <th>Country</th>\n",
       "      <th>Crop_Type</th>\n",
       "      <th>Average_Temperature_C</th>\n",
       "      <th>Total_Precipitation_mm</th>\n",
       "      <th>CO2_Emissions_MT</th>\n",
       "      <th>Crop_Yield_MT_per_HA</th>\n",
       "      <th>Extreme_Weather_Events</th>\n",
       "      <th>Irrigation_Access_%</th>\n",
       "      <th>Pesticide_Use_KG_per_HA</th>\n",
       "      <th>Fertilizer_Use_KG_per_HA</th>\n",
       "      <th>Soil_Health_Index</th>\n",
       "      <th>Adaptation_Strategies</th>\n",
       "      <th>Economic_Impact_Million_USD</th>\n",
       "    </tr>\n",
       "  </thead>\n",
       "  <tbody>\n",
       "    <tr>\n",
       "      <th>Country</th>\n",
       "      <td>1.000000</td>\n",
       "      <td>-0.021889</td>\n",
       "      <td>-0.005643</td>\n",
       "      <td>-0.033991</td>\n",
       "      <td>-0.005092</td>\n",
       "      <td>-0.004147</td>\n",
       "      <td>0.022065</td>\n",
       "      <td>-0.004859</td>\n",
       "      <td>-0.014529</td>\n",
       "      <td>0.009575</td>\n",
       "      <td>0.007503</td>\n",
       "      <td>-0.007664</td>\n",
       "      <td>-0.000058</td>\n",
       "    </tr>\n",
       "    <tr>\n",
       "      <th>Crop_Type</th>\n",
       "      <td>-0.021889</td>\n",
       "      <td>1.000000</td>\n",
       "      <td>-0.012093</td>\n",
       "      <td>-0.002154</td>\n",
       "      <td>0.012381</td>\n",
       "      <td>-0.015263</td>\n",
       "      <td>0.003571</td>\n",
       "      <td>-0.013046</td>\n",
       "      <td>-0.008722</td>\n",
       "      <td>-0.006114</td>\n",
       "      <td>0.001677</td>\n",
       "      <td>0.020426</td>\n",
       "      <td>-0.019984</td>\n",
       "    </tr>\n",
       "    <tr>\n",
       "      <th>Average_Temperature_C</th>\n",
       "      <td>-0.005643</td>\n",
       "      <td>-0.012093</td>\n",
       "      <td>1.000000</td>\n",
       "      <td>0.007213</td>\n",
       "      <td>-0.003052</td>\n",
       "      <td>0.263781</td>\n",
       "      <td>-0.016808</td>\n",
       "      <td>-0.013268</td>\n",
       "      <td>0.005764</td>\n",
       "      <td>-0.014725</td>\n",
       "      <td>-0.010841</td>\n",
       "      <td>-0.001237</td>\n",
       "      <td>0.195827</td>\n",
       "    </tr>\n",
       "    <tr>\n",
       "      <th>Total_Precipitation_mm</th>\n",
       "      <td>-0.033991</td>\n",
       "      <td>-0.002154</td>\n",
       "      <td>0.007213</td>\n",
       "      <td>1.000000</td>\n",
       "      <td>-0.008681</td>\n",
       "      <td>0.029728</td>\n",
       "      <td>0.004360</td>\n",
       "      <td>-0.007580</td>\n",
       "      <td>0.011198</td>\n",
       "      <td>-0.026356</td>\n",
       "      <td>-0.021621</td>\n",
       "      <td>-0.006099</td>\n",
       "      <td>0.020966</td>\n",
       "    </tr>\n",
       "    <tr>\n",
       "      <th>CO2_Emissions_MT</th>\n",
       "      <td>-0.005092</td>\n",
       "      <td>0.012381</td>\n",
       "      <td>-0.003052</td>\n",
       "      <td>-0.008681</td>\n",
       "      <td>1.000000</td>\n",
       "      <td>-0.089868</td>\n",
       "      <td>0.001255</td>\n",
       "      <td>0.002995</td>\n",
       "      <td>0.015243</td>\n",
       "      <td>-0.020275</td>\n",
       "      <td>0.004518</td>\n",
       "      <td>-0.015517</td>\n",
       "      <td>-0.057035</td>\n",
       "    </tr>\n",
       "    <tr>\n",
       "      <th>Crop_Yield_MT_per_HA</th>\n",
       "      <td>-0.004147</td>\n",
       "      <td>-0.015263</td>\n",
       "      <td>0.263781</td>\n",
       "      <td>0.029728</td>\n",
       "      <td>-0.089868</td>\n",
       "      <td>1.000000</td>\n",
       "      <td>-0.005094</td>\n",
       "      <td>-0.000255</td>\n",
       "      <td>-0.004035</td>\n",
       "      <td>0.006423</td>\n",
       "      <td>-0.005692</td>\n",
       "      <td>0.005490</td>\n",
       "      <td>0.726358</td>\n",
       "    </tr>\n",
       "    <tr>\n",
       "      <th>Extreme_Weather_Events</th>\n",
       "      <td>0.022065</td>\n",
       "      <td>0.003571</td>\n",
       "      <td>-0.016808</td>\n",
       "      <td>0.004360</td>\n",
       "      <td>0.001255</td>\n",
       "      <td>-0.005094</td>\n",
       "      <td>1.000000</td>\n",
       "      <td>-0.012051</td>\n",
       "      <td>0.010497</td>\n",
       "      <td>0.014754</td>\n",
       "      <td>0.016266</td>\n",
       "      <td>0.007826</td>\n",
       "      <td>-0.004526</td>\n",
       "    </tr>\n",
       "    <tr>\n",
       "      <th>Irrigation_Access_%</th>\n",
       "      <td>-0.004859</td>\n",
       "      <td>-0.013046</td>\n",
       "      <td>-0.013268</td>\n",
       "      <td>-0.007580</td>\n",
       "      <td>0.002995</td>\n",
       "      <td>-0.000255</td>\n",
       "      <td>-0.012051</td>\n",
       "      <td>1.000000</td>\n",
       "      <td>-0.004588</td>\n",
       "      <td>0.008314</td>\n",
       "      <td>0.001652</td>\n",
       "      <td>0.000116</td>\n",
       "      <td>0.003988</td>\n",
       "    </tr>\n",
       "    <tr>\n",
       "      <th>Pesticide_Use_KG_per_HA</th>\n",
       "      <td>-0.014529</td>\n",
       "      <td>-0.008722</td>\n",
       "      <td>0.005764</td>\n",
       "      <td>0.011198</td>\n",
       "      <td>0.015243</td>\n",
       "      <td>-0.004035</td>\n",
       "      <td>0.010497</td>\n",
       "      <td>-0.004588</td>\n",
       "      <td>1.000000</td>\n",
       "      <td>-0.015429</td>\n",
       "      <td>0.012447</td>\n",
       "      <td>0.014095</td>\n",
       "      <td>-0.007796</td>\n",
       "    </tr>\n",
       "    <tr>\n",
       "      <th>Fertilizer_Use_KG_per_HA</th>\n",
       "      <td>0.009575</td>\n",
       "      <td>-0.006114</td>\n",
       "      <td>-0.014725</td>\n",
       "      <td>-0.026356</td>\n",
       "      <td>-0.020275</td>\n",
       "      <td>0.006423</td>\n",
       "      <td>0.014754</td>\n",
       "      <td>0.008314</td>\n",
       "      <td>-0.015429</td>\n",
       "      <td>1.000000</td>\n",
       "      <td>-0.000125</td>\n",
       "      <td>0.002903</td>\n",
       "      <td>0.010743</td>\n",
       "    </tr>\n",
       "    <tr>\n",
       "      <th>Soil_Health_Index</th>\n",
       "      <td>0.007503</td>\n",
       "      <td>0.001677</td>\n",
       "      <td>-0.010841</td>\n",
       "      <td>-0.021621</td>\n",
       "      <td>0.004518</td>\n",
       "      <td>-0.005692</td>\n",
       "      <td>0.016266</td>\n",
       "      <td>0.001652</td>\n",
       "      <td>0.012447</td>\n",
       "      <td>-0.000125</td>\n",
       "      <td>1.000000</td>\n",
       "      <td>0.007249</td>\n",
       "      <td>-0.000077</td>\n",
       "    </tr>\n",
       "    <tr>\n",
       "      <th>Adaptation_Strategies</th>\n",
       "      <td>-0.007664</td>\n",
       "      <td>0.020426</td>\n",
       "      <td>-0.001237</td>\n",
       "      <td>-0.006099</td>\n",
       "      <td>-0.015517</td>\n",
       "      <td>0.005490</td>\n",
       "      <td>0.007826</td>\n",
       "      <td>0.000116</td>\n",
       "      <td>0.014095</td>\n",
       "      <td>0.002903</td>\n",
       "      <td>0.007249</td>\n",
       "      <td>1.000000</td>\n",
       "      <td>0.011585</td>\n",
       "    </tr>\n",
       "    <tr>\n",
       "      <th>Economic_Impact_Million_USD</th>\n",
       "      <td>-0.000058</td>\n",
       "      <td>-0.019984</td>\n",
       "      <td>0.195827</td>\n",
       "      <td>0.020966</td>\n",
       "      <td>-0.057035</td>\n",
       "      <td>0.726358</td>\n",
       "      <td>-0.004526</td>\n",
       "      <td>0.003988</td>\n",
       "      <td>-0.007796</td>\n",
       "      <td>0.010743</td>\n",
       "      <td>-0.000077</td>\n",
       "      <td>0.011585</td>\n",
       "      <td>1.000000</td>\n",
       "    </tr>\n",
       "  </tbody>\n",
       "</table>\n",
       "</div>"
      ],
      "text/plain": [
       "                              Country  Crop_Type  Average_Temperature_C  \\\n",
       "Country                      1.000000  -0.021889              -0.005643   \n",
       "Crop_Type                   -0.021889   1.000000              -0.012093   \n",
       "Average_Temperature_C       -0.005643  -0.012093               1.000000   \n",
       "Total_Precipitation_mm      -0.033991  -0.002154               0.007213   \n",
       "CO2_Emissions_MT            -0.005092   0.012381              -0.003052   \n",
       "Crop_Yield_MT_per_HA        -0.004147  -0.015263               0.263781   \n",
       "Extreme_Weather_Events       0.022065   0.003571              -0.016808   \n",
       "Irrigation_Access_%         -0.004859  -0.013046              -0.013268   \n",
       "Pesticide_Use_KG_per_HA     -0.014529  -0.008722               0.005764   \n",
       "Fertilizer_Use_KG_per_HA     0.009575  -0.006114              -0.014725   \n",
       "Soil_Health_Index            0.007503   0.001677              -0.010841   \n",
       "Adaptation_Strategies       -0.007664   0.020426              -0.001237   \n",
       "Economic_Impact_Million_USD -0.000058  -0.019984               0.195827   \n",
       "\n",
       "                             Total_Precipitation_mm  CO2_Emissions_MT  \\\n",
       "Country                                   -0.033991         -0.005092   \n",
       "Crop_Type                                 -0.002154          0.012381   \n",
       "Average_Temperature_C                      0.007213         -0.003052   \n",
       "Total_Precipitation_mm                     1.000000         -0.008681   \n",
       "CO2_Emissions_MT                          -0.008681          1.000000   \n",
       "Crop_Yield_MT_per_HA                       0.029728         -0.089868   \n",
       "Extreme_Weather_Events                     0.004360          0.001255   \n",
       "Irrigation_Access_%                       -0.007580          0.002995   \n",
       "Pesticide_Use_KG_per_HA                    0.011198          0.015243   \n",
       "Fertilizer_Use_KG_per_HA                  -0.026356         -0.020275   \n",
       "Soil_Health_Index                         -0.021621          0.004518   \n",
       "Adaptation_Strategies                     -0.006099         -0.015517   \n",
       "Economic_Impact_Million_USD                0.020966         -0.057035   \n",
       "\n",
       "                             Crop_Yield_MT_per_HA  Extreme_Weather_Events  \\\n",
       "Country                                 -0.004147                0.022065   \n",
       "Crop_Type                               -0.015263                0.003571   \n",
       "Average_Temperature_C                    0.263781               -0.016808   \n",
       "Total_Precipitation_mm                   0.029728                0.004360   \n",
       "CO2_Emissions_MT                        -0.089868                0.001255   \n",
       "Crop_Yield_MT_per_HA                     1.000000               -0.005094   \n",
       "Extreme_Weather_Events                  -0.005094                1.000000   \n",
       "Irrigation_Access_%                     -0.000255               -0.012051   \n",
       "Pesticide_Use_KG_per_HA                 -0.004035                0.010497   \n",
       "Fertilizer_Use_KG_per_HA                 0.006423                0.014754   \n",
       "Soil_Health_Index                       -0.005692                0.016266   \n",
       "Adaptation_Strategies                    0.005490                0.007826   \n",
       "Economic_Impact_Million_USD              0.726358               -0.004526   \n",
       "\n",
       "                             Irrigation_Access_%  Pesticide_Use_KG_per_HA  \\\n",
       "Country                                -0.004859                -0.014529   \n",
       "Crop_Type                              -0.013046                -0.008722   \n",
       "Average_Temperature_C                  -0.013268                 0.005764   \n",
       "Total_Precipitation_mm                 -0.007580                 0.011198   \n",
       "CO2_Emissions_MT                        0.002995                 0.015243   \n",
       "Crop_Yield_MT_per_HA                   -0.000255                -0.004035   \n",
       "Extreme_Weather_Events                 -0.012051                 0.010497   \n",
       "Irrigation_Access_%                     1.000000                -0.004588   \n",
       "Pesticide_Use_KG_per_HA                -0.004588                 1.000000   \n",
       "Fertilizer_Use_KG_per_HA                0.008314                -0.015429   \n",
       "Soil_Health_Index                       0.001652                 0.012447   \n",
       "Adaptation_Strategies                   0.000116                 0.014095   \n",
       "Economic_Impact_Million_USD             0.003988                -0.007796   \n",
       "\n",
       "                             Fertilizer_Use_KG_per_HA  Soil_Health_Index  \\\n",
       "Country                                      0.009575           0.007503   \n",
       "Crop_Type                                   -0.006114           0.001677   \n",
       "Average_Temperature_C                       -0.014725          -0.010841   \n",
       "Total_Precipitation_mm                      -0.026356          -0.021621   \n",
       "CO2_Emissions_MT                            -0.020275           0.004518   \n",
       "Crop_Yield_MT_per_HA                         0.006423          -0.005692   \n",
       "Extreme_Weather_Events                       0.014754           0.016266   \n",
       "Irrigation_Access_%                          0.008314           0.001652   \n",
       "Pesticide_Use_KG_per_HA                     -0.015429           0.012447   \n",
       "Fertilizer_Use_KG_per_HA                     1.000000          -0.000125   \n",
       "Soil_Health_Index                           -0.000125           1.000000   \n",
       "Adaptation_Strategies                        0.002903           0.007249   \n",
       "Economic_Impact_Million_USD                  0.010743          -0.000077   \n",
       "\n",
       "                             Adaptation_Strategies  \\\n",
       "Country                                  -0.007664   \n",
       "Crop_Type                                 0.020426   \n",
       "Average_Temperature_C                    -0.001237   \n",
       "Total_Precipitation_mm                   -0.006099   \n",
       "CO2_Emissions_MT                         -0.015517   \n",
       "Crop_Yield_MT_per_HA                      0.005490   \n",
       "Extreme_Weather_Events                    0.007826   \n",
       "Irrigation_Access_%                       0.000116   \n",
       "Pesticide_Use_KG_per_HA                   0.014095   \n",
       "Fertilizer_Use_KG_per_HA                  0.002903   \n",
       "Soil_Health_Index                         0.007249   \n",
       "Adaptation_Strategies                     1.000000   \n",
       "Economic_Impact_Million_USD               0.011585   \n",
       "\n",
       "                             Economic_Impact_Million_USD  \n",
       "Country                                        -0.000058  \n",
       "Crop_Type                                      -0.019984  \n",
       "Average_Temperature_C                           0.195827  \n",
       "Total_Precipitation_mm                          0.020966  \n",
       "CO2_Emissions_MT                               -0.057035  \n",
       "Crop_Yield_MT_per_HA                            0.726358  \n",
       "Extreme_Weather_Events                         -0.004526  \n",
       "Irrigation_Access_%                             0.003988  \n",
       "Pesticide_Use_KG_per_HA                        -0.007796  \n",
       "Fertilizer_Use_KG_per_HA                        0.010743  \n",
       "Soil_Health_Index                              -0.000077  \n",
       "Adaptation_Strategies                           0.011585  \n",
       "Economic_Impact_Million_USD                     1.000000  "
      ]
     },
     "execution_count": 17,
     "metadata": {},
     "output_type": "execute_result"
    }
   ],
   "source": [
    "#correlate variables\n",
    "categorical_correlate = climate.corr()\n",
    "categorical_correlate"
   ]
  },
  {
   "cell_type": "markdown",
   "metadata": {},
   "source": [
    "DATA VISUALIZATION"
   ]
  },
  {
   "cell_type": "code",
   "execution_count": 18,
   "metadata": {},
   "outputs": [],
   "source": [
    "#reverse codes to names of categorical variables\n",
    "climate['Crop_Type'] = climate['Crop_Type'].replace({1:'Corn', 2:'Wheat', 3:'Coffee', 4:'Sugarcane', 5:'Fruits', 6:'Rice', 7:'Barley',8:'Vegetables', 9:'Soybeans', 10:'Cotton'})"
   ]
  },
  {
   "cell_type": "code",
   "execution_count": 19,
   "metadata": {},
   "outputs": [
    {
     "data": {
      "text/plain": [
       "<Axes: xlabel='Crop_Type', ylabel='count'>"
      ]
     },
     "execution_count": 19,
     "metadata": {},
     "output_type": "execute_result"
    },
    {
     "data": {
      "image/png": "[encoded data removed]",
      "text/plain": [
       "<Figure size 640x480 with 1 Axes>"
      ]
     },
     "metadata": {},
     "output_type": "display_data"
    }
   ],
   "source": [
    "#show countplot for categorical variables\n",
    "sns.countplot(x=climate[\"Crop_Type\"],data=climate)\n"
   ]
  },
  {
   "cell_type": "code",
   "execution_count": 20,
   "metadata": {},
   "outputs": [],
   "source": [
    "climate['Country'] = climate['Country'].replace({1:'India', 2:'China', 3:'France', 4:'Canada', 5:'USA', 6:'Argentina',7:'Australia', 8:'Nigeria', 9:'Russia', 10:'Brazil'})"
   ]
  },
  {
   "cell_type": "code",
   "execution_count": 21,
   "metadata": {},
   "outputs": [
    {
     "data": {
      "text/plain": [
       "<Axes: xlabel='Country', ylabel='count'>"
      ]
     },
     "execution_count": 21,
     "metadata": {},
     "output_type": "execute_result"
    },
    {
     "data": {
      "image/png": "[encoded data removed]",
      "text/plain": [
       "<Figure size 640x480 with 1 Axes>"
      ]
     },
     "metadata": {},
     "output_type": "display_data"
    }
   ],
   "source": [
    "#show countplot for categorical variables \"country\"\n",
    "sns.countplot(x=climate[\"Country\"],data=climate)\n"
   ]
  },
  {
   "cell_type": "code",
   "execution_count": 22,
   "metadata": {},
   "outputs": [],
   "source": [
    "climate['Adaptation_Strategies'] = climate['Adaptation_Strategies'].replace({1:'Water Management', 2:'Crop Rotation', 3:'No Adaptation',4:'Organic Farming', 5:'Drought-resistant Crops'})"
   ]
  },
  {
   "cell_type": "code",
   "execution_count": 23,
   "metadata": {},
   "outputs": [
    {
     "data": {
      "text/plain": [
       "<Axes: xlabel='Adaptation_Strategies', ylabel='count'>"
      ]
     },
     "execution_count": 23,
     "metadata": {},
     "output_type": "execute_result"
    },
    {
     "data": {
      "image/png": "[encoded data removed]",
      "text/plain": [
       "<Figure size 640x480 with 1 Axes>"
      ]
     },
     "metadata": {},
     "output_type": "display_data"
    }
   ],
   "source": [
    "#show countplot for categorical variables \"adaptation stategies\"\n",
    "sns.countplot(x=climate[\"Adaptation_Strategies\"],data=climate)\n"
   ]
  },
  {
   "cell_type": "code",
   "execution_count": 25,
   "metadata": {},
   "outputs": [
    {
     "data": {
      "image/png": "[encoded data removed]",
      "text/plain": [
       "<Figure size 640x480 with 1 Axes>"
      ]
     },
     "metadata": {},
     "output_type": "display_data"
    }
   ],
   "source": [
    "#show histoplot for numerical variables \"country\"\n",
    "sns.histplot(climate[\"Average_Temperature_C\"], kde=True);"
   ]
  },
  {
   "cell_type": "code",
   "execution_count": 26,
   "metadata": {},
   "outputs": [
    {
     "data": {
      "image/png": "[encoded data removed]",
      "text/plain": [
       "<Figure size 640x480 with 1 Axes>"
      ]
     },
     "metadata": {},
     "output_type": "display_data"
    }
   ],
   "source": [
    "#show histoplot for numerical variables \"country\"\n",
    "sns.histplot(climate[\"Total_Precipitation_mm\"], kde=True);"
   ]
  },
  {
   "cell_type": "code",
   "execution_count": 28,
   "metadata": {},
   "outputs": [
    {
     "data": {
      "image/png": "[encoded data removed]",
      "text/plain": [
       "<Figure size 640x480 with 1 Axes>"
      ]
     },
     "metadata": {},
     "output_type": "display_data"
    }
   ],
   "source": [
    "#show histoplot for numerical variables \"co2 emission\"\n",
    "sns.histplot(climate[\"CO2_Emissions_MT\"], kde=True);"
   ]
  },
  {
   "cell_type": "code",
   "execution_count": 29,
   "metadata": {},
   "outputs": [
    {
     "data": {
      "image/png": "[encoded data removed]",
      "text/plain": [
       "<Figure size 640x480 with 1 Axes>"
      ]
     },
     "metadata": {},
     "output_type": "display_data"
    }
   ],
   "source": [
    "#show histoplot for numerical variables \"Crop_Yield_MT_per_HA\"\n",
    "sns.histplot(climate[\"Crop_Yield_MT_per_HA\"], kde=True);"
   ]
  },
  {
   "cell_type": "code",
   "execution_count": 30,
   "metadata": {},
   "outputs": [
    {
     "data": {
      "text/html": [
       "<div>\n",
       "<style scoped>\n",
       "    .dataframe tbody tr th:only-of-type {\n",
       "        vertical-align: middle;\n",
       "    }\n",
       "\n",
       "    .dataframe tbody tr th {\n",
       "        vertical-align: top;\n",
       "    }\n",
       "\n",
       "    .dataframe thead th {\n",
       "        text-align: right;\n",
       "    }\n",
       "</style>\n",
       "<table border=\"1\" class=\"dataframe\">\n",
       "  <thead>\n",
       "    <tr style=\"text-align: right;\">\n",
       "      <th></th>\n",
       "      <th>Country</th>\n",
       "      <th>Crop_Type</th>\n",
       "      <th>Average_Temperature_C</th>\n",
       "      <th>Total_Precipitation_mm</th>\n",
       "      <th>CO2_Emissions_MT</th>\n",
       "      <th>Crop_Yield_MT_per_HA</th>\n",
       "      <th>Extreme_Weather_Events</th>\n",
       "      <th>Irrigation_Access_%</th>\n",
       "      <th>Pesticide_Use_KG_per_HA</th>\n",
       "      <th>Fertilizer_Use_KG_per_HA</th>\n",
       "      <th>Soil_Health_Index</th>\n",
       "      <th>Adaptation_Strategies</th>\n",
       "      <th>Economic_Impact_Million_USD</th>\n",
       "    </tr>\n",
       "  </thead>\n",
       "  <tbody>\n",
       "    <tr>\n",
       "      <th>0</th>\n",
       "      <td>India</td>\n",
       "      <td>Corn</td>\n",
       "      <td>1.55</td>\n",
       "      <td>447.06</td>\n",
       "      <td>15.22</td>\n",
       "      <td>1.737</td>\n",
       "      <td>8</td>\n",
       "      <td>14.54</td>\n",
       "      <td>10.08</td>\n",
       "      <td>14.78</td>\n",
       "      <td>83.25</td>\n",
       "      <td>Water Management</td>\n",
       "      <td>808.13</td>\n",
       "    </tr>\n",
       "    <tr>\n",
       "      <th>1</th>\n",
       "      <td>China</td>\n",
       "      <td>Corn</td>\n",
       "      <td>3.23</td>\n",
       "      <td>2913.57</td>\n",
       "      <td>29.82</td>\n",
       "      <td>1.737</td>\n",
       "      <td>8</td>\n",
       "      <td>11.05</td>\n",
       "      <td>33.06</td>\n",
       "      <td>23.25</td>\n",
       "      <td>54.02</td>\n",
       "      <td>Crop Rotation</td>\n",
       "      <td>616.22</td>\n",
       "    </tr>\n",
       "    <tr>\n",
       "      <th>2</th>\n",
       "      <td>France</td>\n",
       "      <td>Wheat</td>\n",
       "      <td>21.11</td>\n",
       "      <td>1301.74</td>\n",
       "      <td>25.75</td>\n",
       "      <td>1.719</td>\n",
       "      <td>5</td>\n",
       "      <td>84.42</td>\n",
       "      <td>27.41</td>\n",
       "      <td>65.53</td>\n",
       "      <td>67.78</td>\n",
       "      <td>Water Management</td>\n",
       "      <td>796.96</td>\n",
       "    </tr>\n",
       "    <tr>\n",
       "      <th>3</th>\n",
       "      <td>Canada</td>\n",
       "      <td>Coffee</td>\n",
       "      <td>27.85</td>\n",
       "      <td>1154.36</td>\n",
       "      <td>13.91</td>\n",
       "      <td>3.890</td>\n",
       "      <td>5</td>\n",
       "      <td>94.06</td>\n",
       "      <td>14.38</td>\n",
       "      <td>87.58</td>\n",
       "      <td>91.39</td>\n",
       "      <td>No Adaptation</td>\n",
       "      <td>790.32</td>\n",
       "    </tr>\n",
       "    <tr>\n",
       "      <th>4</th>\n",
       "      <td>India</td>\n",
       "      <td>Sugarcane</td>\n",
       "      <td>2.19</td>\n",
       "      <td>1627.48</td>\n",
       "      <td>11.81</td>\n",
       "      <td>1.080</td>\n",
       "      <td>9</td>\n",
       "      <td>95.75</td>\n",
       "      <td>44.35</td>\n",
       "      <td>88.08</td>\n",
       "      <td>49.61</td>\n",
       "      <td>Crop Rotation</td>\n",
       "      <td>401.72</td>\n",
       "    </tr>\n",
       "  </tbody>\n",
       "</table>\n",
       "</div>"
      ],
      "text/plain": [
       "  Country  Crop_Type  Average_Temperature_C  Total_Precipitation_mm  \\\n",
       "0   India       Corn                   1.55                  447.06   \n",
       "1   China       Corn                   3.23                 2913.57   \n",
       "2  France      Wheat                  21.11                 1301.74   \n",
       "3  Canada     Coffee                  27.85                 1154.36   \n",
       "4   India  Sugarcane                   2.19                 1627.48   \n",
       "\n",
       "   CO2_Emissions_MT  Crop_Yield_MT_per_HA  Extreme_Weather_Events  \\\n",
       "0             15.22                 1.737                       8   \n",
       "1             29.82                 1.737                       8   \n",
       "2             25.75                 1.719                       5   \n",
       "3             13.91                 3.890                       5   \n",
       "4             11.81                 1.080                       9   \n",
       "\n",
       "   Irrigation_Access_%  Pesticide_Use_KG_per_HA  Fertilizer_Use_KG_per_HA  \\\n",
       "0                14.54                    10.08                     14.78   \n",
       "1                11.05                    33.06                     23.25   \n",
       "2                84.42                    27.41                     65.53   \n",
       "3                94.06                    14.38                     87.58   \n",
       "4                95.75                    44.35                     88.08   \n",
       "\n",
       "   Soil_Health_Index Adaptation_Strategies  Economic_Impact_Million_USD  \n",
       "0              83.25      Water Management                       808.13  \n",
       "1              54.02         Crop Rotation                       616.22  \n",
       "2              67.78      Water Management                       796.96  \n",
       "3              91.39         No Adaptation                       790.32  \n",
       "4              49.61         Crop Rotation                       401.72  "
      ]
     },
     "execution_count": 30,
     "metadata": {},
     "output_type": "execute_result"
    }
   ],
   "source": [
    "climate.head()"
   ]
  },
  {
   "cell_type": "code",
   "execution_count": 31,
   "metadata": {},
   "outputs": [],
   "source": [
    "#convert categorical variable country into numeric\n",
    "convert_country = {'India':1, 'China':2, 'France':3, 'Canada':4, 'USA':5, 'Argentina':6,'Australia':7, 'Nigeria':8, 'Russia':9, 'Brazil':10 }\n",
    "convert_country\n",
    "climate[\"Country\"] = climate[\"Country\"].map(convert_country)"
   ]
  },
  {
   "cell_type": "code",
   "execution_count": 32,
   "metadata": {},
   "outputs": [
    {
     "data": {
      "text/plain": [
       "0       1\n",
       "1       2\n",
       "2       1\n",
       "3       3\n",
       "4       2\n",
       "       ..\n",
       "9995    3\n",
       "9996    3\n",
       "9997    1\n",
       "9998    2\n",
       "9999    1\n",
       "Name: Adaptation_Strategies, Length: 10000, dtype: int64"
      ]
     },
     "execution_count": 32,
     "metadata": {},
     "output_type": "execute_result"
    }
   ],
   "source": [
    "#convert categorical variable adaptation strategies into numeric\n",
    "convert_adaptation = {\"Water Management\":1, \"Crop Rotation\":2, \"No Adaptation\":3, \"Organic Farming\":4, \"Drought-resistant Crops\":5}\n",
    "climate[\"Adaptation_Strategies\"]= climate[\"Adaptation_Strategies\"].map(convert_adaptation)\n",
    "climate[\"Adaptation_Strategies\"]"
   ]
  },
  {
   "cell_type": "code",
   "execution_count": 33,
   "metadata": {},
   "outputs": [
    {
     "data": {
      "text/plain": [
       "0        1\n",
       "1        1\n",
       "2        2\n",
       "3        3\n",
       "4        4\n",
       "        ..\n",
       "9995    10\n",
       "9996     9\n",
       "9997     3\n",
       "9998     9\n",
       "9999     1\n",
       "Name: Crop_Type, Length: 10000, dtype: int64"
      ]
     },
     "execution_count": 33,
     "metadata": {},
     "output_type": "execute_result"
    }
   ],
   "source": [
    "#convert categorical variable crop type into numeric\n",
    "convert_crop = {\"Corn\":1, \"Wheat\":2, \"Coffee\":3, \"Sugarcane\":4, \"Fruits\":5, \"Rice\":6, \"Barley\":7,\"Vegetables\":8, \"Soybeans\":9, \"Cotton\":10 }\n",
    "climate[\"Crop_Type\"]= climate[\"Crop_Type\"].map(convert_crop)\n",
    "climate[\"Crop_Type\"]"
   ]
  },
  {
   "cell_type": "code",
   "execution_count": 52,
   "metadata": {},
   "outputs": [
    {
     "data": {
      "text/html": [
       "<div>\n",
       "<style scoped>\n",
       "    .dataframe tbody tr th:only-of-type {\n",
       "        vertical-align: middle;\n",
       "    }\n",
       "\n",
       "    .dataframe tbody tr th {\n",
       "        vertical-align: top;\n",
       "    }\n",
       "\n",
       "    .dataframe thead th {\n",
       "        text-align: right;\n",
       "    }\n",
       "</style>\n",
       "<table border=\"1\" class=\"dataframe\">\n",
       "  <thead>\n",
       "    <tr style=\"text-align: right;\">\n",
       "      <th></th>\n",
       "      <th>Country</th>\n",
       "      <th>Crop_Type</th>\n",
       "      <th>Average_Temperature_C</th>\n",
       "      <th>Total_Precipitation_mm</th>\n",
       "      <th>CO2_Emissions_MT</th>\n",
       "      <th>Crop_Yield_MT_per_HA</th>\n",
       "      <th>Extreme_Weather_Events</th>\n",
       "      <th>Irrigation_Access_%</th>\n",
       "      <th>Pesticide_Use_KG_per_HA</th>\n",
       "      <th>Fertilizer_Use_KG_per_HA</th>\n",
       "      <th>Soil_Health_Index</th>\n",
       "      <th>Adaptation_Strategies</th>\n",
       "      <th>Economic_Impact_Million_USD</th>\n",
       "    </tr>\n",
       "  </thead>\n",
       "  <tbody>\n",
       "    <tr>\n",
       "      <th>count</th>\n",
       "      <td>10000.000000</td>\n",
       "      <td>10000.000000</td>\n",
       "      <td>10000.000000</td>\n",
       "      <td>10000.000000</td>\n",
       "      <td>10000.000000</td>\n",
       "      <td>10000.000000</td>\n",
       "      <td>10000.000000</td>\n",
       "      <td>10000.000000</td>\n",
       "      <td>10000.000000</td>\n",
       "      <td>10000.000000</td>\n",
       "      <td>10000.000000</td>\n",
       "      <td>10000.000000</td>\n",
       "      <td>10000.000000</td>\n",
       "    </tr>\n",
       "    <tr>\n",
       "      <th>mean</th>\n",
       "      <td>5.456600</td>\n",
       "      <td>5.497200</td>\n",
       "      <td>15.241299</td>\n",
       "      <td>1611.663834</td>\n",
       "      <td>15.246608</td>\n",
       "      <td>2.240017</td>\n",
       "      <td>4.980900</td>\n",
       "      <td>55.248332</td>\n",
       "      <td>24.955735</td>\n",
       "      <td>49.973708</td>\n",
       "      <td>64.901278</td>\n",
       "      <td>2.991000</td>\n",
       "      <td>674.269658</td>\n",
       "    </tr>\n",
       "    <tr>\n",
       "      <th>std</th>\n",
       "      <td>2.860898</td>\n",
       "      <td>2.892547</td>\n",
       "      <td>11.466955</td>\n",
       "      <td>805.016815</td>\n",
       "      <td>8.589423</td>\n",
       "      <td>0.998342</td>\n",
       "      <td>3.165808</td>\n",
       "      <td>25.988305</td>\n",
       "      <td>14.490962</td>\n",
       "      <td>28.711027</td>\n",
       "      <td>20.195882</td>\n",
       "      <td>1.418069</td>\n",
       "      <td>414.591431</td>\n",
       "    </tr>\n",
       "    <tr>\n",
       "      <th>min</th>\n",
       "      <td>1.000000</td>\n",
       "      <td>1.000000</td>\n",
       "      <td>-4.990000</td>\n",
       "      <td>200.150000</td>\n",
       "      <td>0.500000</td>\n",
       "      <td>0.450000</td>\n",
       "      <td>0.000000</td>\n",
       "      <td>10.010000</td>\n",
       "      <td>0.000000</td>\n",
       "      <td>0.010000</td>\n",
       "      <td>30.000000</td>\n",
       "      <td>1.000000</td>\n",
       "      <td>47.840000</td>\n",
       "    </tr>\n",
       "    <tr>\n",
       "      <th>25%</th>\n",
       "      <td>3.000000</td>\n",
       "      <td>3.000000</td>\n",
       "      <td>5.430000</td>\n",
       "      <td>925.697500</td>\n",
       "      <td>7.760000</td>\n",
       "      <td>1.449000</td>\n",
       "      <td>2.000000</td>\n",
       "      <td>32.677500</td>\n",
       "      <td>12.527500</td>\n",
       "      <td>25.390000</td>\n",
       "      <td>47.235000</td>\n",
       "      <td>2.000000</td>\n",
       "      <td>350.545000</td>\n",
       "    </tr>\n",
       "    <tr>\n",
       "      <th>50%</th>\n",
       "      <td>5.000000</td>\n",
       "      <td>6.000000</td>\n",
       "      <td>15.175000</td>\n",
       "      <td>1611.160000</td>\n",
       "      <td>15.200000</td>\n",
       "      <td>2.170000</td>\n",
       "      <td>5.000000</td>\n",
       "      <td>55.175000</td>\n",
       "      <td>24.930000</td>\n",
       "      <td>49.635000</td>\n",
       "      <td>64.650000</td>\n",
       "      <td>3.000000</td>\n",
       "      <td>583.920000</td>\n",
       "    </tr>\n",
       "    <tr>\n",
       "      <th>75%</th>\n",
       "      <td>8.000000</td>\n",
       "      <td>8.000000</td>\n",
       "      <td>25.340000</td>\n",
       "      <td>2306.997500</td>\n",
       "      <td>22.820000</td>\n",
       "      <td>2.930000</td>\n",
       "      <td>8.000000</td>\n",
       "      <td>77.582500</td>\n",
       "      <td>37.470000</td>\n",
       "      <td>74.825000</td>\n",
       "      <td>82.472500</td>\n",
       "      <td>4.000000</td>\n",
       "      <td>917.505000</td>\n",
       "    </tr>\n",
       "    <tr>\n",
       "      <th>max</th>\n",
       "      <td>10.000000</td>\n",
       "      <td>10.000000</td>\n",
       "      <td>35.000000</td>\n",
       "      <td>2999.670000</td>\n",
       "      <td>30.000000</td>\n",
       "      <td>5.000000</td>\n",
       "      <td>10.000000</td>\n",
       "      <td>99.990000</td>\n",
       "      <td>49.990000</td>\n",
       "      <td>99.990000</td>\n",
       "      <td>100.000000</td>\n",
       "      <td>5.000000</td>\n",
       "      <td>2346.470000</td>\n",
       "    </tr>\n",
       "  </tbody>\n",
       "</table>\n",
       "</div>"
      ],
      "text/plain": [
       "            Country     Crop_Type  Average_Temperature_C  \\\n",
       "count  10000.000000  10000.000000           10000.000000   \n",
       "mean       5.456600      5.497200              15.241299   \n",
       "std        2.860898      2.892547              11.466955   \n",
       "min        1.000000      1.000000              -4.990000   \n",
       "25%        3.000000      3.000000               5.430000   \n",
       "50%        5.000000      6.000000              15.175000   \n",
       "75%        8.000000      8.000000              25.340000   \n",
       "max       10.000000     10.000000              35.000000   \n",
       "\n",
       "       Total_Precipitation_mm  CO2_Emissions_MT  Crop_Yield_MT_per_HA  \\\n",
       "count            10000.000000      10000.000000          10000.000000   \n",
       "mean              1611.663834         15.246608              2.240017   \n",
       "std                805.016815          8.589423              0.998342   \n",
       "min                200.150000          0.500000              0.450000   \n",
       "25%                925.697500          7.760000              1.449000   \n",
       "50%               1611.160000         15.200000              2.170000   \n",
       "75%               2306.997500         22.820000              2.930000   \n",
       "max               2999.670000         30.000000              5.000000   \n",
       "\n",
       "       Extreme_Weather_Events  Irrigation_Access_%  Pesticide_Use_KG_per_HA  \\\n",
       "count            10000.000000         10000.000000             10000.000000   \n",
       "mean                 4.980900            55.248332                24.955735   \n",
       "std                  3.165808            25.988305                14.490962   \n",
       "min                  0.000000            10.010000                 0.000000   \n",
       "25%                  2.000000            32.677500                12.527500   \n",
       "50%                  5.000000            55.175000                24.930000   \n",
       "75%                  8.000000            77.582500                37.470000   \n",
       "max                 10.000000            99.990000                49.990000   \n",
       "\n",
       "       Fertilizer_Use_KG_per_HA  Soil_Health_Index  Adaptation_Strategies  \\\n",
       "count              10000.000000       10000.000000           10000.000000   \n",
       "mean                  49.973708          64.901278               2.991000   \n",
       "std                   28.711027          20.195882               1.418069   \n",
       "min                    0.010000          30.000000               1.000000   \n",
       "25%                   25.390000          47.235000               2.000000   \n",
       "50%                   49.635000          64.650000               3.000000   \n",
       "75%                   74.825000          82.472500               4.000000   \n",
       "max                   99.990000         100.000000               5.000000   \n",
       "\n",
       "       Economic_Impact_Million_USD  \n",
       "count                 10000.000000  \n",
       "mean                    674.269658  \n",
       "std                     414.591431  \n",
       "min                      47.840000  \n",
       "25%                     350.545000  \n",
       "50%                     583.920000  \n",
       "75%                     917.505000  \n",
       "max                    2346.470000  "
      ]
     },
     "execution_count": 52,
     "metadata": {},
     "output_type": "execute_result"
    }
   ],
   "source": [
    "climate.describe()"
   ]
  },
  {
   "cell_type": "markdown",
   "metadata": {},
   "source": [
    "MODELLING USING RANDOM FOREST REGRESSOR(RFR)"
   ]
  },
  {
   "cell_type": "code",
   "execution_count": 34,
   "metadata": {},
   "outputs": [],
   "source": [
    "#import random forest regressor\n",
    "from sklearn.ensemble import RandomForestRegressor"
   ]
  },
  {
   "cell_type": "code",
   "execution_count": 35,
   "metadata": {},
   "outputs": [],
   "source": [
    "#import train-test-split\n",
    "from sklearn.model_selection import train_test_split"
   ]
  },
  {
   "cell_type": "code",
   "execution_count": 36,
   "metadata": {},
   "outputs": [],
   "source": [
    "#define X and y variables\n",
    "y=climate[\"Crop_Yield_MT_per_HA\"]\n",
    "X = climate[['Country', 'Crop_Type', 'Average_Temperature_C','Total_Precipitation_mm', 'CO2_Emissions_MT', 'Crop_Yield_MT_per_HA','Extreme_Weather_Events', 'Irrigation_Access_%','Pesticide_Use_KG_per_HA', 'Fertilizer_Use_KG_per_HA','Soil_Health_Index', 'Adaptation_Strategies','Economic_Impact_Million_USD']]"
   ]
  },
  {
   "cell_type": "code",
   "execution_count": 37,
   "metadata": {},
   "outputs": [],
   "source": [
    "#define Xtrain and Xtest, ytrain and ytest\n",
    "X_train,X_test,y_train,y_test = train_test_split(X,y,test_size=0.2, random_state=30)"
   ]
  },
  {
   "cell_type": "code",
   "execution_count": 38,
   "metadata": {},
   "outputs": [
    {
     "data": {
      "text/html": [
       "<div>\n",
       "<style scoped>\n",
       "    .dataframe tbody tr th:only-of-type {\n",
       "        vertical-align: middle;\n",
       "    }\n",
       "\n",
       "    .dataframe tbody tr th {\n",
       "        vertical-align: top;\n",
       "    }\n",
       "\n",
       "    .dataframe thead th {\n",
       "        text-align: right;\n",
       "    }\n",
       "</style>\n",
       "<table border=\"1\" class=\"dataframe\">\n",
       "  <thead>\n",
       "    <tr style=\"text-align: right;\">\n",
       "      <th></th>\n",
       "      <th>Country</th>\n",
       "      <th>Crop_Type</th>\n",
       "      <th>Average_Temperature_C</th>\n",
       "      <th>Total_Precipitation_mm</th>\n",
       "      <th>CO2_Emissions_MT</th>\n",
       "      <th>Crop_Yield_MT_per_HA</th>\n",
       "      <th>Extreme_Weather_Events</th>\n",
       "      <th>Irrigation_Access_%</th>\n",
       "      <th>Pesticide_Use_KG_per_HA</th>\n",
       "      <th>Fertilizer_Use_KG_per_HA</th>\n",
       "      <th>Soil_Health_Index</th>\n",
       "      <th>Adaptation_Strategies</th>\n",
       "      <th>Economic_Impact_Million_USD</th>\n",
       "    </tr>\n",
       "  </thead>\n",
       "  <tbody>\n",
       "    <tr>\n",
       "      <th>2182</th>\n",
       "      <td>7</td>\n",
       "      <td>1</td>\n",
       "      <td>-1.18</td>\n",
       "      <td>2353.82</td>\n",
       "      <td>28.88</td>\n",
       "      <td>1.890</td>\n",
       "      <td>7</td>\n",
       "      <td>76.69</td>\n",
       "      <td>5.57</td>\n",
       "      <td>86.19</td>\n",
       "      <td>98.64</td>\n",
       "      <td>2</td>\n",
       "      <td>422.35</td>\n",
       "    </tr>\n",
       "    <tr>\n",
       "      <th>5766</th>\n",
       "      <td>8</td>\n",
       "      <td>1</td>\n",
       "      <td>21.84</td>\n",
       "      <td>1701.93</td>\n",
       "      <td>22.18</td>\n",
       "      <td>1.386</td>\n",
       "      <td>1</td>\n",
       "      <td>68.47</td>\n",
       "      <td>20.15</td>\n",
       "      <td>32.26</td>\n",
       "      <td>63.13</td>\n",
       "      <td>2</td>\n",
       "      <td>563.53</td>\n",
       "    </tr>\n",
       "    <tr>\n",
       "      <th>2439</th>\n",
       "      <td>1</td>\n",
       "      <td>1</td>\n",
       "      <td>28.62</td>\n",
       "      <td>1932.10</td>\n",
       "      <td>12.48</td>\n",
       "      <td>2.780</td>\n",
       "      <td>8</td>\n",
       "      <td>38.87</td>\n",
       "      <td>45.46</td>\n",
       "      <td>8.55</td>\n",
       "      <td>62.22</td>\n",
       "      <td>1</td>\n",
       "      <td>823.74</td>\n",
       "    </tr>\n",
       "    <tr>\n",
       "      <th>993</th>\n",
       "      <td>6</td>\n",
       "      <td>6</td>\n",
       "      <td>33.67</td>\n",
       "      <td>732.98</td>\n",
       "      <td>10.65</td>\n",
       "      <td>1.590</td>\n",
       "      <td>2</td>\n",
       "      <td>55.30</td>\n",
       "      <td>6.34</td>\n",
       "      <td>84.19</td>\n",
       "      <td>92.04</td>\n",
       "      <td>3</td>\n",
       "      <td>367.42</td>\n",
       "    </tr>\n",
       "    <tr>\n",
       "      <th>7426</th>\n",
       "      <td>1</td>\n",
       "      <td>10</td>\n",
       "      <td>-0.40</td>\n",
       "      <td>2788.93</td>\n",
       "      <td>16.98</td>\n",
       "      <td>0.666</td>\n",
       "      <td>9</td>\n",
       "      <td>55.32</td>\n",
       "      <td>49.46</td>\n",
       "      <td>8.36</td>\n",
       "      <td>98.18</td>\n",
       "      <td>2</td>\n",
       "      <td>266.42</td>\n",
       "    </tr>\n",
       "    <tr>\n",
       "      <th>...</th>\n",
       "      <td>...</td>\n",
       "      <td>...</td>\n",
       "      <td>...</td>\n",
       "      <td>...</td>\n",
       "      <td>...</td>\n",
       "      <td>...</td>\n",
       "      <td>...</td>\n",
       "      <td>...</td>\n",
       "      <td>...</td>\n",
       "      <td>...</td>\n",
       "      <td>...</td>\n",
       "      <td>...</td>\n",
       "      <td>...</td>\n",
       "    </tr>\n",
       "    <tr>\n",
       "      <th>4859</th>\n",
       "      <td>2</td>\n",
       "      <td>6</td>\n",
       "      <td>10.76</td>\n",
       "      <td>1866.03</td>\n",
       "      <td>15.11</td>\n",
       "      <td>4.257</td>\n",
       "      <td>9</td>\n",
       "      <td>80.63</td>\n",
       "      <td>48.14</td>\n",
       "      <td>71.58</td>\n",
       "      <td>59.48</td>\n",
       "      <td>5</td>\n",
       "      <td>1801.88</td>\n",
       "    </tr>\n",
       "    <tr>\n",
       "      <th>919</th>\n",
       "      <td>9</td>\n",
       "      <td>9</td>\n",
       "      <td>-0.81</td>\n",
       "      <td>2780.43</td>\n",
       "      <td>21.56</td>\n",
       "      <td>1.305</td>\n",
       "      <td>9</td>\n",
       "      <td>31.07</td>\n",
       "      <td>48.48</td>\n",
       "      <td>2.68</td>\n",
       "      <td>43.90</td>\n",
       "      <td>1</td>\n",
       "      <td>436.83</td>\n",
       "    </tr>\n",
       "    <tr>\n",
       "      <th>500</th>\n",
       "      <td>8</td>\n",
       "      <td>8</td>\n",
       "      <td>21.18</td>\n",
       "      <td>820.76</td>\n",
       "      <td>27.70</td>\n",
       "      <td>1.206</td>\n",
       "      <td>9</td>\n",
       "      <td>30.43</td>\n",
       "      <td>30.41</td>\n",
       "      <td>26.21</td>\n",
       "      <td>89.35</td>\n",
       "      <td>1</td>\n",
       "      <td>200.20</td>\n",
       "    </tr>\n",
       "    <tr>\n",
       "      <th>4517</th>\n",
       "      <td>1</td>\n",
       "      <td>7</td>\n",
       "      <td>6.16</td>\n",
       "      <td>882.55</td>\n",
       "      <td>4.87</td>\n",
       "      <td>2.460</td>\n",
       "      <td>5</td>\n",
       "      <td>89.82</td>\n",
       "      <td>7.98</td>\n",
       "      <td>16.82</td>\n",
       "      <td>49.53</td>\n",
       "      <td>1</td>\n",
       "      <td>316.51</td>\n",
       "    </tr>\n",
       "    <tr>\n",
       "      <th>5925</th>\n",
       "      <td>3</td>\n",
       "      <td>6</td>\n",
       "      <td>-2.37</td>\n",
       "      <td>1231.34</td>\n",
       "      <td>4.89</td>\n",
       "      <td>1.740</td>\n",
       "      <td>10</td>\n",
       "      <td>26.54</td>\n",
       "      <td>21.81</td>\n",
       "      <td>56.98</td>\n",
       "      <td>85.82</td>\n",
       "      <td>4</td>\n",
       "      <td>622.96</td>\n",
       "    </tr>\n",
       "  </tbody>\n",
       "</table>\n",
       "<p>8000 rows × 13 columns</p>\n",
       "</div>"
      ],
      "text/plain": [
       "      Country  Crop_Type  Average_Temperature_C  Total_Precipitation_mm  \\\n",
       "2182        7          1                  -1.18                 2353.82   \n",
       "5766        8          1                  21.84                 1701.93   \n",
       "2439        1          1                  28.62                 1932.10   \n",
       "993         6          6                  33.67                  732.98   \n",
       "7426        1         10                  -0.40                 2788.93   \n",
       "...       ...        ...                    ...                     ...   \n",
       "4859        2          6                  10.76                 1866.03   \n",
       "919         9          9                  -0.81                 2780.43   \n",
       "500         8          8                  21.18                  820.76   \n",
       "4517        1          7                   6.16                  882.55   \n",
       "5925        3          6                  -2.37                 1231.34   \n",
       "\n",
       "      CO2_Emissions_MT  Crop_Yield_MT_per_HA  Extreme_Weather_Events  \\\n",
       "2182             28.88                 1.890                       7   \n",
       "5766             22.18                 1.386                       1   \n",
       "2439             12.48                 2.780                       8   \n",
       "993              10.65                 1.590                       2   \n",
       "7426             16.98                 0.666                       9   \n",
       "...                ...                   ...                     ...   \n",
       "4859             15.11                 4.257                       9   \n",
       "919              21.56                 1.305                       9   \n",
       "500              27.70                 1.206                       9   \n",
       "4517              4.87                 2.460                       5   \n",
       "5925              4.89                 1.740                      10   \n",
       "\n",
       "      Irrigation_Access_%  Pesticide_Use_KG_per_HA  Fertilizer_Use_KG_per_HA  \\\n",
       "2182                76.69                     5.57                     86.19   \n",
       "5766                68.47                    20.15                     32.26   \n",
       "2439                38.87                    45.46                      8.55   \n",
       "993                 55.30                     6.34                     84.19   \n",
       "7426                55.32                    49.46                      8.36   \n",
       "...                   ...                      ...                       ...   \n",
       "4859                80.63                    48.14                     71.58   \n",
       "919                 31.07                    48.48                      2.68   \n",
       "500                 30.43                    30.41                     26.21   \n",
       "4517                89.82                     7.98                     16.82   \n",
       "5925                26.54                    21.81                     56.98   \n",
       "\n",
       "      Soil_Health_Index  Adaptation_Strategies  Economic_Impact_Million_USD  \n",
       "2182              98.64                      2                       422.35  \n",
       "5766              63.13                      2                       563.53  \n",
       "2439              62.22                      1                       823.74  \n",
       "993               92.04                      3                       367.42  \n",
       "7426              98.18                      2                       266.42  \n",
       "...                 ...                    ...                          ...  \n",
       "4859              59.48                      5                      1801.88  \n",
       "919               43.90                      1                       436.83  \n",
       "500               89.35                      1                       200.20  \n",
       "4517              49.53                      1                       316.51  \n",
       "5925              85.82                      4                       622.96  \n",
       "\n",
       "[8000 rows x 13 columns]"
      ]
     },
     "execution_count": 38,
     "metadata": {},
     "output_type": "execute_result"
    }
   ],
   "source": [
    "#print Xtrain\n",
    "X_train"
   ]
  },
  {
   "cell_type": "code",
   "execution_count": 39,
   "metadata": {},
   "outputs": [
    {
     "data": {
      "text/plain": [
       "2182    1.890\n",
       "5766    1.386\n",
       "2439    2.780\n",
       "993     1.590\n",
       "7426    0.666\n",
       "        ...  \n",
       "4859    4.257\n",
       "919     1.305\n",
       "500     1.206\n",
       "4517    2.460\n",
       "5925    1.740\n",
       "Name: Crop_Yield_MT_per_HA, Length: 8000, dtype: float64"
      ]
     },
     "execution_count": 39,
     "metadata": {},
     "output_type": "execute_result"
    }
   ],
   "source": [
    "#print ytrain\n",
    "y_train"
   ]
  },
  {
   "cell_type": "code",
   "execution_count": 40,
   "metadata": {},
   "outputs": [],
   "source": [
    "#initialise the RFR\n",
    "model_rfr = RandomForestRegressor()"
   ]
  },
  {
   "cell_type": "code",
   "execution_count": 41,
   "metadata": {},
   "outputs": [],
   "source": [
    "#define the rfr model\n",
    "rfr_model = model_rfr.fit(X_train,y_train)"
   ]
  },
  {
   "cell_type": "code",
   "execution_count": 42,
   "metadata": {},
   "outputs": [],
   "source": [
    "#import metrics for validation\n",
    "from sklearn.metrics import r2_score, mean_absolute_error, mean_squared_error"
   ]
  },
  {
   "cell_type": "code",
   "execution_count": 43,
   "metadata": {},
   "outputs": [],
   "source": [
    "#define the predicted target variable\n",
    "ypredict = rfr_model.predict (X_test)"
   ]
  },
  {
   "cell_type": "code",
   "execution_count": 44,
   "metadata": {},
   "outputs": [
    {
     "data": {
      "text/plain": [
       "array([1.98   , 2.69   , 0.96297, ..., 1.746  , 2.49003, 0.90998])"
      ]
     },
     "execution_count": 44,
     "metadata": {},
     "output_type": "execute_result"
    }
   ],
   "source": [
    "#print ypredict\n",
    "ypredict"
   ]
  },
  {
   "cell_type": "code",
   "execution_count": 45,
   "metadata": {},
   "outputs": [],
   "source": [
    "#initialise r2 score\n",
    "r2 = r2_score(ypredict,y_test)"
   ]
  },
  {
   "cell_type": "code",
   "execution_count": 46,
   "metadata": {},
   "outputs": [
    {
     "data": {
      "text/plain": [
       "0.9999995394059319"
      ]
     },
     "execution_count": 46,
     "metadata": {},
     "output_type": "execute_result"
    }
   ],
   "source": [
    "#print r2 score\n",
    "r2"
   ]
  },
  {
   "cell_type": "code",
   "execution_count": 47,
   "metadata": {},
   "outputs": [],
   "source": [
    "#initialise mae\n",
    "mae = mean_absolute_error(ypredict, y_test)"
   ]
  },
  {
   "cell_type": "code",
   "execution_count": 48,
   "metadata": {},
   "outputs": [
    {
     "data": {
      "text/plain": [
       "np.float64(0.00017747500000112263)"
      ]
     },
     "execution_count": 48,
     "metadata": {},
     "output_type": "execute_result"
    }
   ],
   "source": [
    "#print mae\n",
    "mae"
   ]
  },
  {
   "cell_type": "code",
   "execution_count": 49,
   "metadata": {},
   "outputs": [],
   "source": [
    "#initialise mse\n",
    "mse=mean_squared_error(ypredict,y_test)"
   ]
  },
  {
   "cell_type": "code",
   "execution_count": 50,
   "metadata": {},
   "outputs": [
    {
     "data": {
      "text/plain": [
       "np.float64(4.5117065000000626e-07)"
      ]
     },
     "execution_count": 50,
     "metadata": {},
     "output_type": "execute_result"
    }
   ],
   "source": [
    "#print mse\n",
    "mse"
   ]
  },
  {
   "cell_type": "code",
   "execution_count": null,
   "metadata": {},
   "outputs": [],
   "source": []
  }
 ],
 "metadata": {
  "kernelspec": {
   "display_name": "Python 3",
   "language": "python",
   "name": "python3"
  },
  "language_info": {
   "codemirror_mode": {
    "name": "ipython",
    "version": 3
   },
   "file_extension": ".py",
   "mimetype": "text/x-python",
   "name": "python",
   "nbconvert_exporter": "python",
   "pygments_lexer": "ipython3",
   "version": "3.12.4"
  }
 },
 "nbformat": 4,
 "nbformat_minor": 2
}
